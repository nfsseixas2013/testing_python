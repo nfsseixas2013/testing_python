{
 "cells": [
  {
   "cell_type": "code",
   "execution_count": 4,
   "id": "0bb0b742",
   "metadata": {},
   "outputs": [],
   "source": [
    "import pandas as pd\n",
    "from statsmodels.stats.outliers_influence import variance_inflation_factor"
   ]
  },
  {
   "cell_type": "code",
   "execution_count": 3,
   "id": "98853ae4",
   "metadata": {},
   "outputs": [
    {
     "name": "stdout",
     "output_type": "stream",
     "text": [
      "Collecting statsmodels\n",
      "  Downloading statsmodels-0.13.5-cp38-cp38-manylinux_2_17_x86_64.manylinux2014_x86_64.whl (9.9 MB)\n",
      "\u001b[K     |████████████████████████████████| 9.9 MB 1.6 MB/s eta 0:00:01\n",
      "\u001b[?25hRequirement already satisfied: scipy>=1.3 in /home/nilton/.pyenv/versions/3.8.12/lib/python3.8/site-packages (from statsmodels) (1.8.0)\n",
      "Requirement already satisfied: pandas>=0.25 in /home/nilton/.pyenv/versions/3.8.12/lib/python3.8/site-packages (from statsmodels) (1.4.2)\n",
      "Requirement already satisfied: packaging>=21.3 in /home/nilton/.pyenv/versions/3.8.12/lib/python3.8/site-packages (from statsmodels) (21.3)\n",
      "Requirement already satisfied: numpy>=1.17 in /home/nilton/.pyenv/versions/3.8.12/lib/python3.8/site-packages (from statsmodels) (1.22.4)\n",
      "Collecting patsy>=0.5.2\n",
      "  Downloading patsy-0.5.3-py2.py3-none-any.whl (233 kB)\n",
      "\u001b[K     |████████████████████████████████| 233 kB 9.2 MB/s eta 0:00:01\n",
      "\u001b[?25hRequirement already satisfied: pyparsing!=3.0.5,>=2.0.2 in /home/nilton/.pyenv/versions/3.8.12/lib/python3.8/site-packages (from packaging>=21.3->statsmodels) (3.0.9)\n",
      "Requirement already satisfied: pytz>=2020.1 in /home/nilton/.pyenv/versions/3.8.12/lib/python3.8/site-packages (from pandas>=0.25->statsmodels) (2021.3)\n",
      "Requirement already satisfied: python-dateutil>=2.8.1 in /home/nilton/.pyenv/versions/3.8.12/lib/python3.8/site-packages (from pandas>=0.25->statsmodels) (2.8.2)\n",
      "Requirement already satisfied: six in /home/nilton/.pyenv/versions/3.8.12/lib/python3.8/site-packages (from patsy>=0.5.2->statsmodels) (1.16.0)\n",
      "Installing collected packages: patsy, statsmodels\n",
      "Successfully installed patsy-0.5.3 statsmodels-0.13.5\n",
      "\u001b[33mWARNING: You are using pip version 21.1.1; however, version 22.3.1 is available.\n",
      "You should consider upgrading via the '/home/nilton/.pyenv/versions/3.8.12/bin/python3.8 -m pip install --upgrade pip' command.\u001b[0m\n",
      "Note: you may need to restart the kernel to use updated packages.\n"
     ]
    }
   ],
   "source": [
    "#pip install statsmodels"
   ]
  },
  {
   "cell_type": "code",
   "execution_count": 6,
   "id": "924409a6",
   "metadata": {},
   "outputs": [],
   "source": [
    "data = pd.DataFrame({'Gender': ['Male','Male', 'Female','Female','Male'], 'Height': [174,189,185,195,149],'Weight':[96,87,110,104,61],'Index': [4,2,4,3,3]})"
   ]
  },
  {
   "cell_type": "code",
   "execution_count": 7,
   "id": "7a838020",
   "metadata": {},
   "outputs": [],
   "source": [
    "data['Gender'] = data['Gender'].map({'Male':0, 'Female':1})"
   ]
  },
  {
   "cell_type": "code",
   "execution_count": 8,
   "id": "9ae1525c",
   "metadata": {},
   "outputs": [],
   "source": [
    "X = data[['Gender', 'Height', 'Weight']]"
   ]
  },
  {
   "cell_type": "code",
   "execution_count": 9,
   "id": "9c5174ed",
   "metadata": {},
   "outputs": [
    {
     "data": {
      "text/plain": [
       "Index(['Gender', 'Height', 'Weight'], dtype='object')"
      ]
     },
     "execution_count": 9,
     "metadata": {},
     "output_type": "execute_result"
    }
   ],
   "source": [
    "X.columns"
   ]
  },
  {
   "cell_type": "code",
   "execution_count": 10,
   "id": "21dcd373",
   "metadata": {},
   "outputs": [
    {
     "data": {
      "text/plain": [
       "array([[  0, 174,  96],\n",
       "       [  0, 189,  87],\n",
       "       [  1, 185, 110],\n",
       "       [  1, 195, 104],\n",
       "       [  0, 149,  61]])"
      ]
     },
     "execution_count": 10,
     "metadata": {},
     "output_type": "execute_result"
    }
   ],
   "source": [
    "X.values"
   ]
  },
  {
   "cell_type": "code",
   "execution_count": 11,
   "id": "593fc2ff",
   "metadata": {},
   "outputs": [],
   "source": [
    "vif_data = pd.DataFrame()\n",
    "vif_data[\"feature\"] = X.columns"
   ]
  },
  {
   "cell_type": "code",
   "execution_count": 12,
   "id": "05aa81e8",
   "metadata": {},
   "outputs": [],
   "source": [
    "vif_data[\"VIF\"] = [variance_inflation_factor(X.values, i)\n",
    "                          for i in range(len(X.columns))]"
   ]
  },
  {
   "cell_type": "code",
   "execution_count": 13,
   "id": "b53709e0",
   "metadata": {},
   "outputs": [
    {
     "name": "stdout",
     "output_type": "stream",
     "text": [
      "  feature         VIF\n",
      "0  Gender    3.356134\n",
      "1  Height  110.299040\n",
      "2  Weight  128.348298\n"
     ]
    }
   ],
   "source": [
    "print(vif_data)"
   ]
  },
  {
   "cell_type": "code",
   "execution_count": null,
   "id": "8f1bb58f",
   "metadata": {},
   "outputs": [],
   "source": []
  }
 ],
 "metadata": {
  "kernelspec": {
   "display_name": "Python 3 (ipykernel)",
   "language": "python",
   "name": "python3"
  },
  "language_info": {
   "codemirror_mode": {
    "name": "ipython",
    "version": 3
   },
   "file_extension": ".py",
   "mimetype": "text/x-python",
   "name": "python",
   "nbconvert_exporter": "python",
   "pygments_lexer": "ipython3",
   "version": "3.8.12"
  }
 },
 "nbformat": 4,
 "nbformat_minor": 5
}
